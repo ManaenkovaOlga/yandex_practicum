{
 "cells": [
  {
   "cell_type": "markdown",
   "metadata": {},
   "source": [
    "# Исследование данных БД сервиса для чтения книг по подписке"
   ]
  },
  {
   "cell_type": "markdown",
   "metadata": {},
   "source": [
    "**Цель работы:** \n",
    "\n",
    "Наша задача —  проанализировать базу данных крупного сервиса для чтения книг по подписке, а в ней — информацию о книгах, издательствах, авторах, а также пользовательские обзоры книг. Эти данные помогут сформулировать ценностное предложение для нового продукта.\n",
    "\n",
    "**Описание данных:**\n",
    "\n",
    "Таблица books\n",
    "\n",
    "Содержит данные о книгах:\n",
    "- book_id — идентификатор книги;\n",
    "- author_id — идентификатор автора;\n",
    "- title — название книги;\n",
    "- num_pages — количество страниц;\n",
    "- publication_date — дата публикации книги;\n",
    "- publisher_id — идентификатор издателя.\n",
    "\n",
    "Таблица authors\n",
    "\n",
    "Содержит данные об авторах:\n",
    "\n",
    "- author_id — идентификатор автора;\n",
    "- author — имя автора.\n",
    "\n",
    "Таблица publishers\n",
    "\n",
    "Содержит данные об издательствах:\n",
    "\n",
    "- publisher_id — идентификатор издательства;\n",
    "- publisher — название издательства;\n",
    "\n",
    "Таблица ratings\n",
    "\n",
    "Содержит данные о пользовательских оценках книг:\n",
    "\n",
    "- rating_id — идентификатор оценки;\n",
    "- book_id — идентификатор книги;\n",
    "- username — имя пользователя, оставившего оценку;\n",
    "- rating — оценка книги.\n",
    "\n",
    "Таблица reviews\n",
    "\n",
    "Содержит данные о пользовательских обзорах:\n",
    "- review_id — идентификатор обзора;\n",
    "- book_id — идентификатор книги;\n",
    "- username — имя автора обзора;\n",
    "- text — текст обзора.\n",
    "\n",
    "**План работы**:\n",
    "- Обзор данных.\n",
    "- Решение заданий\n",
    "- Общий вывод."
   ]
  },
  {
   "cell_type": "markdown",
   "metadata": {},
   "source": [
    "## Обзор данных"
   ]
  },
  {
   "cell_type": "code",
   "execution_count": 1,
   "metadata": {},
   "outputs": [],
   "source": [
    "# импортируем библиотеки\n",
    "import pandas as pd\n",
    "from sqlalchemy import text, create_engine\n"
   ]
  },
  {
   "cell_type": "code",
   "execution_count": 2,
   "metadata": {},
   "outputs": [],
   "source": [
    "# устанавливаем параметры\n",
    "db_config = {'user': 'praktikum_student', # имя пользователя\n",
    "'pwd': 'Sdf4$2;d-d30pp', # пароль\n",
    "'host': 'rc1b-wcoijxj3yxfsf3fs.mdb.yandexcloud.net',\n",
    "'port': 6432, # порт подключения\n",
    "'db': 'data-analyst-final-project-db'} # название базы данных\n",
    "connection_string = 'postgresql://{user}:{pwd}@{host}:{port}/{db}'.format(**db_config)\n"
   ]
  },
  {
   "cell_type": "code",
   "execution_count": 3,
   "metadata": {},
   "outputs": [],
   "source": [
    "# сохраняем коннектор\n",
    "engine = create_engine(connection_string, connect_args={'sslmode':'require'})\n",
    "con=engine.connect()"
   ]
  },
  {
   "cell_type": "code",
   "execution_count": 6,
   "metadata": {},
   "outputs": [
    {
     "data": {
      "text/html": [
       "<div>\n",
       "<style scoped>\n",
       "    .dataframe tbody tr th:only-of-type {\n",
       "        vertical-align: middle;\n",
       "    }\n",
       "\n",
       "    .dataframe tbody tr th {\n",
       "        vertical-align: top;\n",
       "    }\n",
       "\n",
       "    .dataframe thead th {\n",
       "        text-align: right;\n",
       "    }\n",
       "</style>\n",
       "<table border=\"1\" class=\"dataframe\">\n",
       "  <thead>\n",
       "    <tr style=\"text-align: right;\">\n",
       "      <th></th>\n",
       "      <th>book_id</th>\n",
       "      <th>author_id</th>\n",
       "      <th>title</th>\n",
       "      <th>num_pages</th>\n",
       "      <th>publication_date</th>\n",
       "      <th>publisher_id</th>\n",
       "    </tr>\n",
       "  </thead>\n",
       "  <tbody>\n",
       "    <tr>\n",
       "      <th>0</th>\n",
       "      <td>1</td>\n",
       "      <td>546</td>\n",
       "      <td>'Salem's Lot</td>\n",
       "      <td>594</td>\n",
       "      <td>2005-11-01</td>\n",
       "      <td>93</td>\n",
       "    </tr>\n",
       "    <tr>\n",
       "      <th>1</th>\n",
       "      <td>2</td>\n",
       "      <td>465</td>\n",
       "      <td>1 000 Places to See Before You Die</td>\n",
       "      <td>992</td>\n",
       "      <td>2003-05-22</td>\n",
       "      <td>336</td>\n",
       "    </tr>\n",
       "    <tr>\n",
       "      <th>2</th>\n",
       "      <td>3</td>\n",
       "      <td>407</td>\n",
       "      <td>13 Little Blue Envelopes (Little Blue Envelope...</td>\n",
       "      <td>322</td>\n",
       "      <td>2010-12-21</td>\n",
       "      <td>135</td>\n",
       "    </tr>\n",
       "    <tr>\n",
       "      <th>3</th>\n",
       "      <td>4</td>\n",
       "      <td>82</td>\n",
       "      <td>1491: New Revelations of the Americas Before C...</td>\n",
       "      <td>541</td>\n",
       "      <td>2006-10-10</td>\n",
       "      <td>309</td>\n",
       "    </tr>\n",
       "    <tr>\n",
       "      <th>4</th>\n",
       "      <td>5</td>\n",
       "      <td>125</td>\n",
       "      <td>1776</td>\n",
       "      <td>386</td>\n",
       "      <td>2006-07-04</td>\n",
       "      <td>268</td>\n",
       "    </tr>\n",
       "  </tbody>\n",
       "</table>\n",
       "</div>"
      ],
      "text/plain": [
       "   book_id  author_id                                              title  \\\n",
       "0        1        546                                       'Salem's Lot   \n",
       "1        2        465                 1 000 Places to See Before You Die   \n",
       "2        3        407  13 Little Blue Envelopes (Little Blue Envelope...   \n",
       "3        4         82  1491: New Revelations of the Americas Before C...   \n",
       "4        5        125                                               1776   \n",
       "\n",
       "   num_pages publication_date  publisher_id  \n",
       "0        594       2005-11-01            93  \n",
       "1        992       2003-05-22           336  \n",
       "2        322       2010-12-21           135  \n",
       "3        541       2006-10-10           309  \n",
       "4        386       2006-07-04           268  "
      ]
     },
     "execution_count": 6,
     "metadata": {},
     "output_type": "execute_result"
    }
   ],
   "source": [
    "# чтобы выполнить SQL-запрос, используем Pandas\n",
    "query = '''SELECT * FROM books LIMIT 5'''\n",
    "pd.io.sql.read_sql(sql=text(query), con = con)"
   ]
  },
  {
   "cell_type": "code",
   "execution_count": 7,
   "metadata": {},
   "outputs": [
    {
     "data": {
      "text/html": [
       "<div>\n",
       "<style scoped>\n",
       "    .dataframe tbody tr th:only-of-type {\n",
       "        vertical-align: middle;\n",
       "    }\n",
       "\n",
       "    .dataframe tbody tr th {\n",
       "        vertical-align: top;\n",
       "    }\n",
       "\n",
       "    .dataframe thead th {\n",
       "        text-align: right;\n",
       "    }\n",
       "</style>\n",
       "<table border=\"1\" class=\"dataframe\">\n",
       "  <thead>\n",
       "    <tr style=\"text-align: right;\">\n",
       "      <th></th>\n",
       "      <th>author_id</th>\n",
       "      <th>author</th>\n",
       "    </tr>\n",
       "  </thead>\n",
       "  <tbody>\n",
       "    <tr>\n",
       "      <th>0</th>\n",
       "      <td>1</td>\n",
       "      <td>A.S. Byatt</td>\n",
       "    </tr>\n",
       "    <tr>\n",
       "      <th>1</th>\n",
       "      <td>2</td>\n",
       "      <td>Aesop/Laura Harris/Laura Gibbs</td>\n",
       "    </tr>\n",
       "    <tr>\n",
       "      <th>2</th>\n",
       "      <td>3</td>\n",
       "      <td>Agatha Christie</td>\n",
       "    </tr>\n",
       "    <tr>\n",
       "      <th>3</th>\n",
       "      <td>4</td>\n",
       "      <td>Alan Brennert</td>\n",
       "    </tr>\n",
       "    <tr>\n",
       "      <th>4</th>\n",
       "      <td>5</td>\n",
       "      <td>Alan Moore/David   Lloyd</td>\n",
       "    </tr>\n",
       "  </tbody>\n",
       "</table>\n",
       "</div>"
      ],
      "text/plain": [
       "   author_id                          author\n",
       "0          1                      A.S. Byatt\n",
       "1          2  Aesop/Laura Harris/Laura Gibbs\n",
       "2          3                 Agatha Christie\n",
       "3          4                   Alan Brennert\n",
       "4          5        Alan Moore/David   Lloyd"
      ]
     },
     "execution_count": 7,
     "metadata": {},
     "output_type": "execute_result"
    }
   ],
   "source": [
    "# чтобы выполнить SQL-запрос, используем Pandas\n",
    "query = '''SELECT * FROM authors LIMIT 5'''\n",
    "pd.io.sql.read_sql(sql=text(query), con = con)"
   ]
  },
  {
   "cell_type": "code",
   "execution_count": 8,
   "metadata": {},
   "outputs": [
    {
     "data": {
      "text/html": [
       "<div>\n",
       "<style scoped>\n",
       "    .dataframe tbody tr th:only-of-type {\n",
       "        vertical-align: middle;\n",
       "    }\n",
       "\n",
       "    .dataframe tbody tr th {\n",
       "        vertical-align: top;\n",
       "    }\n",
       "\n",
       "    .dataframe thead th {\n",
       "        text-align: right;\n",
       "    }\n",
       "</style>\n",
       "<table border=\"1\" class=\"dataframe\">\n",
       "  <thead>\n",
       "    <tr style=\"text-align: right;\">\n",
       "      <th></th>\n",
       "      <th>publisher_id</th>\n",
       "      <th>publisher</th>\n",
       "    </tr>\n",
       "  </thead>\n",
       "  <tbody>\n",
       "    <tr>\n",
       "      <th>0</th>\n",
       "      <td>1</td>\n",
       "      <td>Ace</td>\n",
       "    </tr>\n",
       "    <tr>\n",
       "      <th>1</th>\n",
       "      <td>2</td>\n",
       "      <td>Ace Book</td>\n",
       "    </tr>\n",
       "    <tr>\n",
       "      <th>2</th>\n",
       "      <td>3</td>\n",
       "      <td>Ace Books</td>\n",
       "    </tr>\n",
       "    <tr>\n",
       "      <th>3</th>\n",
       "      <td>4</td>\n",
       "      <td>Ace Hardcover</td>\n",
       "    </tr>\n",
       "    <tr>\n",
       "      <th>4</th>\n",
       "      <td>5</td>\n",
       "      <td>Addison Wesley Publishing Company</td>\n",
       "    </tr>\n",
       "  </tbody>\n",
       "</table>\n",
       "</div>"
      ],
      "text/plain": [
       "   publisher_id                          publisher\n",
       "0             1                                Ace\n",
       "1             2                           Ace Book\n",
       "2             3                          Ace Books\n",
       "3             4                      Ace Hardcover\n",
       "4             5  Addison Wesley Publishing Company"
      ]
     },
     "execution_count": 8,
     "metadata": {},
     "output_type": "execute_result"
    }
   ],
   "source": [
    "# чтобы выполнить SQL-запрос, используем Pandas\n",
    "query = '''SELECT * FROM publishers LIMIT 5'''\n",
    "pd.io.sql.read_sql(sql=text(query), con = con)"
   ]
  },
  {
   "cell_type": "code",
   "execution_count": 9,
   "metadata": {},
   "outputs": [
    {
     "data": {
      "text/html": [
       "<div>\n",
       "<style scoped>\n",
       "    .dataframe tbody tr th:only-of-type {\n",
       "        vertical-align: middle;\n",
       "    }\n",
       "\n",
       "    .dataframe tbody tr th {\n",
       "        vertical-align: top;\n",
       "    }\n",
       "\n",
       "    .dataframe thead th {\n",
       "        text-align: right;\n",
       "    }\n",
       "</style>\n",
       "<table border=\"1\" class=\"dataframe\">\n",
       "  <thead>\n",
       "    <tr style=\"text-align: right;\">\n",
       "      <th></th>\n",
       "      <th>rating_id</th>\n",
       "      <th>book_id</th>\n",
       "      <th>username</th>\n",
       "      <th>rating</th>\n",
       "    </tr>\n",
       "  </thead>\n",
       "  <tbody>\n",
       "    <tr>\n",
       "      <th>0</th>\n",
       "      <td>1</td>\n",
       "      <td>1</td>\n",
       "      <td>ryanfranco</td>\n",
       "      <td>4</td>\n",
       "    </tr>\n",
       "    <tr>\n",
       "      <th>1</th>\n",
       "      <td>2</td>\n",
       "      <td>1</td>\n",
       "      <td>grantpatricia</td>\n",
       "      <td>2</td>\n",
       "    </tr>\n",
       "    <tr>\n",
       "      <th>2</th>\n",
       "      <td>3</td>\n",
       "      <td>1</td>\n",
       "      <td>brandtandrea</td>\n",
       "      <td>5</td>\n",
       "    </tr>\n",
       "    <tr>\n",
       "      <th>3</th>\n",
       "      <td>4</td>\n",
       "      <td>2</td>\n",
       "      <td>lorichen</td>\n",
       "      <td>3</td>\n",
       "    </tr>\n",
       "    <tr>\n",
       "      <th>4</th>\n",
       "      <td>5</td>\n",
       "      <td>2</td>\n",
       "      <td>mariokeller</td>\n",
       "      <td>2</td>\n",
       "    </tr>\n",
       "  </tbody>\n",
       "</table>\n",
       "</div>"
      ],
      "text/plain": [
       "   rating_id  book_id       username  rating\n",
       "0          1        1     ryanfranco       4\n",
       "1          2        1  grantpatricia       2\n",
       "2          3        1   brandtandrea       5\n",
       "3          4        2       lorichen       3\n",
       "4          5        2    mariokeller       2"
      ]
     },
     "execution_count": 9,
     "metadata": {},
     "output_type": "execute_result"
    }
   ],
   "source": [
    "# чтобы выполнить SQL-запрос, используем Pandas\n",
    "query = '''SELECT * FROM ratings LIMIT 5'''\n",
    "pd.io.sql.read_sql(sql=text(query), con = con)"
   ]
  },
  {
   "cell_type": "code",
   "execution_count": 10,
   "metadata": {},
   "outputs": [
    {
     "data": {
      "text/html": [
       "<div>\n",
       "<style scoped>\n",
       "    .dataframe tbody tr th:only-of-type {\n",
       "        vertical-align: middle;\n",
       "    }\n",
       "\n",
       "    .dataframe tbody tr th {\n",
       "        vertical-align: top;\n",
       "    }\n",
       "\n",
       "    .dataframe thead th {\n",
       "        text-align: right;\n",
       "    }\n",
       "</style>\n",
       "<table border=\"1\" class=\"dataframe\">\n",
       "  <thead>\n",
       "    <tr style=\"text-align: right;\">\n",
       "      <th></th>\n",
       "      <th>review_id</th>\n",
       "      <th>book_id</th>\n",
       "      <th>username</th>\n",
       "      <th>text</th>\n",
       "    </tr>\n",
       "  </thead>\n",
       "  <tbody>\n",
       "    <tr>\n",
       "      <th>0</th>\n",
       "      <td>1</td>\n",
       "      <td>1</td>\n",
       "      <td>brandtandrea</td>\n",
       "      <td>Mention society tell send professor analysis. ...</td>\n",
       "    </tr>\n",
       "    <tr>\n",
       "      <th>1</th>\n",
       "      <td>2</td>\n",
       "      <td>1</td>\n",
       "      <td>ryanfranco</td>\n",
       "      <td>Foot glass pretty audience hit themselves. Amo...</td>\n",
       "    </tr>\n",
       "    <tr>\n",
       "      <th>2</th>\n",
       "      <td>3</td>\n",
       "      <td>2</td>\n",
       "      <td>lorichen</td>\n",
       "      <td>Listen treat keep worry. Miss husband tax but ...</td>\n",
       "    </tr>\n",
       "    <tr>\n",
       "      <th>3</th>\n",
       "      <td>4</td>\n",
       "      <td>3</td>\n",
       "      <td>johnsonamanda</td>\n",
       "      <td>Finally month interesting blue could nature cu...</td>\n",
       "    </tr>\n",
       "    <tr>\n",
       "      <th>4</th>\n",
       "      <td>5</td>\n",
       "      <td>3</td>\n",
       "      <td>scotttamara</td>\n",
       "      <td>Nation purpose heavy give wait song will. List...</td>\n",
       "    </tr>\n",
       "  </tbody>\n",
       "</table>\n",
       "</div>"
      ],
      "text/plain": [
       "   review_id  book_id       username  \\\n",
       "0          1        1   brandtandrea   \n",
       "1          2        1     ryanfranco   \n",
       "2          3        2       lorichen   \n",
       "3          4        3  johnsonamanda   \n",
       "4          5        3    scotttamara   \n",
       "\n",
       "                                                text  \n",
       "0  Mention society tell send professor analysis. ...  \n",
       "1  Foot glass pretty audience hit themselves. Amo...  \n",
       "2  Listen treat keep worry. Miss husband tax but ...  \n",
       "3  Finally month interesting blue could nature cu...  \n",
       "4  Nation purpose heavy give wait song will. List...  "
      ]
     },
     "execution_count": 10,
     "metadata": {},
     "output_type": "execute_result"
    }
   ],
   "source": [
    "# чтобы выполнить SQL-запрос, используем Pandas\n",
    "query = '''SELECT * FROM reviews LIMIT 5'''\n",
    "pd.io.sql.read_sql(sql=text(query), con = con)"
   ]
  },
  {
   "cell_type": "markdown",
   "metadata": {},
   "source": [
    "## Решение заданий"
   ]
  },
  {
   "cell_type": "markdown",
   "metadata": {},
   "source": [
    "### Задание 1\n",
    "\n",
    "Посчитайте, сколько книг вышло после 1 января 2000 года;"
   ]
  },
  {
   "cell_type": "code",
   "execution_count": 11,
   "metadata": {},
   "outputs": [
    {
     "data": {
      "text/html": [
       "<div>\n",
       "<style scoped>\n",
       "    .dataframe tbody tr th:only-of-type {\n",
       "        vertical-align: middle;\n",
       "    }\n",
       "\n",
       "    .dataframe tbody tr th {\n",
       "        vertical-align: top;\n",
       "    }\n",
       "\n",
       "    .dataframe thead th {\n",
       "        text-align: right;\n",
       "    }\n",
       "</style>\n",
       "<table border=\"1\" class=\"dataframe\">\n",
       "  <thead>\n",
       "    <tr style=\"text-align: right;\">\n",
       "      <th></th>\n",
       "      <th>count</th>\n",
       "    </tr>\n",
       "  </thead>\n",
       "  <tbody>\n",
       "    <tr>\n",
       "      <th>0</th>\n",
       "      <td>821</td>\n",
       "    </tr>\n",
       "  </tbody>\n",
       "</table>\n",
       "</div>"
      ],
      "text/plain": [
       "   count\n",
       "0    821"
      ]
     },
     "execution_count": 11,
     "metadata": {},
     "output_type": "execute_result"
    }
   ],
   "source": [
    "# чтобы выполнить SQL-запрос, используем Pandas\n",
    "query = '''SELECT count(book_id)FROM books\n",
    "           where publication_date >='2000-01-01' '''\n",
    "pd.io.sql.read_sql(sql=text(query), con = con)"
   ]
  },
  {
   "cell_type": "code",
   "execution_count": 12,
   "metadata": {},
   "outputs": [
    {
     "data": {
      "text/html": [
       "<div>\n",
       "<style scoped>\n",
       "    .dataframe tbody tr th:only-of-type {\n",
       "        vertical-align: middle;\n",
       "    }\n",
       "\n",
       "    .dataframe tbody tr th {\n",
       "        vertical-align: top;\n",
       "    }\n",
       "\n",
       "    .dataframe thead th {\n",
       "        text-align: right;\n",
       "    }\n",
       "</style>\n",
       "<table border=\"1\" class=\"dataframe\">\n",
       "  <thead>\n",
       "    <tr style=\"text-align: right;\">\n",
       "      <th></th>\n",
       "      <th>count</th>\n",
       "    </tr>\n",
       "  </thead>\n",
       "  <tbody>\n",
       "    <tr>\n",
       "      <th>0</th>\n",
       "      <td>821</td>\n",
       "    </tr>\n",
       "  </tbody>\n",
       "</table>\n",
       "</div>"
      ],
      "text/plain": [
       "   count\n",
       "0    821"
      ]
     },
     "execution_count": 12,
     "metadata": {},
     "output_type": "execute_result"
    }
   ],
   "source": [
    "# чтобы выполнить SQL-запрос, используем Pandas\n",
    "query = '''SELECT count (book_id) FROM books\n",
    "           where publication_date >='2000-01-01' '''\n",
    "pd.io.sql.read_sql(sql=text(query), con = con)"
   ]
  },
  {
   "cell_type": "markdown",
   "metadata": {},
   "source": [
    "Всего с 1 января 2000 вышла 821 книга."
   ]
  },
  {
   "cell_type": "markdown",
   "metadata": {},
   "source": [
    "### Задание 2\n",
    "\n",
    "Для каждой книги посчитайте количество обзоров и среднюю оценку;"
   ]
  },
  {
   "cell_type": "code",
   "execution_count": 13,
   "metadata": {},
   "outputs": [
    {
     "data": {
      "text/html": [
       "<div>\n",
       "<style scoped>\n",
       "    .dataframe tbody tr th:only-of-type {\n",
       "        vertical-align: middle;\n",
       "    }\n",
       "\n",
       "    .dataframe tbody tr th {\n",
       "        vertical-align: top;\n",
       "    }\n",
       "\n",
       "    .dataframe thead th {\n",
       "        text-align: right;\n",
       "    }\n",
       "</style>\n",
       "<table border=\"1\" class=\"dataframe\">\n",
       "  <thead>\n",
       "    <tr style=\"text-align: right;\">\n",
       "      <th></th>\n",
       "      <th>author</th>\n",
       "      <th>title</th>\n",
       "      <th>review_cnt</th>\n",
       "      <th>rating_avg</th>\n",
       "    </tr>\n",
       "  </thead>\n",
       "  <tbody>\n",
       "    <tr>\n",
       "      <th>0</th>\n",
       "      <td>Stephenie Meyer</td>\n",
       "      <td>Twilight (Twilight  #1)</td>\n",
       "      <td>7</td>\n",
       "      <td>3.66</td>\n",
       "    </tr>\n",
       "    <tr>\n",
       "      <th>1</th>\n",
       "      <td>Cormac McCarthy</td>\n",
       "      <td>The Road</td>\n",
       "      <td>6</td>\n",
       "      <td>3.77</td>\n",
       "    </tr>\n",
       "    <tr>\n",
       "      <th>2</th>\n",
       "      <td>Paulo Coelho/Alan R. Clarke/Özdemir İnce</td>\n",
       "      <td>The Alchemist</td>\n",
       "      <td>6</td>\n",
       "      <td>3.79</td>\n",
       "    </tr>\n",
       "    <tr>\n",
       "      <th>3</th>\n",
       "      <td>Mark Haddon</td>\n",
       "      <td>The Curious Incident of the Dog in the Night-Time</td>\n",
       "      <td>6</td>\n",
       "      <td>4.08</td>\n",
       "    </tr>\n",
       "    <tr>\n",
       "      <th>4</th>\n",
       "      <td>Lois Lowry</td>\n",
       "      <td>The Giver (The Giver  #1)</td>\n",
       "      <td>6</td>\n",
       "      <td>3.75</td>\n",
       "    </tr>\n",
       "    <tr>\n",
       "      <th>...</th>\n",
       "      <td>...</td>\n",
       "      <td>...</td>\n",
       "      <td>...</td>\n",
       "      <td>...</td>\n",
       "    </tr>\n",
       "    <tr>\n",
       "      <th>995</th>\n",
       "      <td>Dr. Seuss/Various</td>\n",
       "      <td>The Cat in the Hat and Other Dr. Seuss Favorites</td>\n",
       "      <td>0</td>\n",
       "      <td>5.00</td>\n",
       "    </tr>\n",
       "    <tr>\n",
       "      <th>996</th>\n",
       "      <td>Teddy Slater/Ron Dias/Ric González</td>\n",
       "      <td>Disney's Beauty and the Beast (A Little Golden...</td>\n",
       "      <td>0</td>\n",
       "      <td>4.00</td>\n",
       "    </tr>\n",
       "    <tr>\n",
       "      <th>997</th>\n",
       "      <td>Edgar Allan Poe/Benjamin F. Fisher</td>\n",
       "      <td>Essential Tales and Poems</td>\n",
       "      <td>0</td>\n",
       "      <td>4.00</td>\n",
       "    </tr>\n",
       "    <tr>\n",
       "      <th>998</th>\n",
       "      <td>Faye Perozich/Anne Rice/John Bolton/Daerick Gröss</td>\n",
       "      <td>Anne Rice's The Vampire Lestat: A Graphic Novel</td>\n",
       "      <td>0</td>\n",
       "      <td>3.67</td>\n",
       "    </tr>\n",
       "    <tr>\n",
       "      <th>999</th>\n",
       "      <td>Kimon Nicolaides/Mamie Harmon</td>\n",
       "      <td>The Natural Way to Draw</td>\n",
       "      <td>0</td>\n",
       "      <td>3.00</td>\n",
       "    </tr>\n",
       "  </tbody>\n",
       "</table>\n",
       "<p>1000 rows × 4 columns</p>\n",
       "</div>"
      ],
      "text/plain": [
       "                                                author  \\\n",
       "0                                      Stephenie Meyer   \n",
       "1                                      Cormac McCarthy   \n",
       "2             Paulo Coelho/Alan R. Clarke/Özdemir İnce   \n",
       "3                                          Mark Haddon   \n",
       "4                                           Lois Lowry   \n",
       "..                                                 ...   \n",
       "995                                  Dr. Seuss/Various   \n",
       "996                 Teddy Slater/Ron Dias/Ric González   \n",
       "997                 Edgar Allan Poe/Benjamin F. Fisher   \n",
       "998  Faye Perozich/Anne Rice/John Bolton/Daerick Gröss   \n",
       "999                      Kimon Nicolaides/Mamie Harmon   \n",
       "\n",
       "                                                 title  review_cnt  rating_avg  \n",
       "0                              Twilight (Twilight  #1)           7        3.66  \n",
       "1                                             The Road           6        3.77  \n",
       "2                                        The Alchemist           6        3.79  \n",
       "3    The Curious Incident of the Dog in the Night-Time           6        4.08  \n",
       "4                            The Giver (The Giver  #1)           6        3.75  \n",
       "..                                                 ...         ...         ...  \n",
       "995   The Cat in the Hat and Other Dr. Seuss Favorites           0        5.00  \n",
       "996  Disney's Beauty and the Beast (A Little Golden...           0        4.00  \n",
       "997                          Essential Tales and Poems           0        4.00  \n",
       "998    Anne Rice's The Vampire Lestat: A Graphic Novel           0        3.67  \n",
       "999                            The Natural Way to Draw           0        3.00  \n",
       "\n",
       "[1000 rows x 4 columns]"
      ]
     },
     "execution_count": 13,
     "metadata": {},
     "output_type": "execute_result"
    }
   ],
   "source": [
    "# чтобы выполнить SQL-запрос, используем Pandas\n",
    "query = ''' WITH rating_cnt as \n",
    "            (SELECT \n",
    "                book_id,  \n",
    "                round(avg(rating),2) as rating_avg \n",
    "            FROM ratings \n",
    "            GROUP BY book_id),\n",
    "            \n",
    "            review_cnt as \n",
    "            (SELECT \n",
    "                book_id,  \n",
    "                count(review_id) as review_cnt \n",
    "            FROM reviews \n",
    "            GROUP BY book_id)\n",
    "\n",
    "           SELECT \n",
    "                a.author, \n",
    "                b.title, \n",
    "                coalesce(review_cnt, 0) as review_cnt, \n",
    "                rating_avg \n",
    "           FROM books b\n",
    "           left join review_cnt as rw on b.book_id=rw.book_id\n",
    "           left join rating_cnt as ra on b.book_id=ra.book_id\n",
    "           left join authors as a on b.author_id=a.author_id\n",
    "           order by review_cnt desc '''\n",
    "           \n",
    "con=engine.connect()\n",
    "pd.io.sql.read_sql(sql=text(query), con = con)"
   ]
  },
  {
   "cell_type": "markdown",
   "metadata": {},
   "source": [
    "Наибольшее количество обзоров получили книги Twilight (Twilight #1) Stephenie Meyer, The Road от Cormac McCarthy и  The Alchemist от Paulo Coelho/Alan R. Clarke/Özdemir İnce.\t"
   ]
  },
  {
   "cell_type": "markdown",
   "metadata": {},
   "source": [
    "### Задание 3\n",
    "\n",
    "Определите издательство, которое выпустило наибольшее число книг толще 50 страниц — так вы исключите из анализа брошюры;"
   ]
  },
  {
   "cell_type": "code",
   "execution_count": 10,
   "metadata": {},
   "outputs": [
    {
     "data": {
      "text/html": [
       "<div>\n",
       "<style scoped>\n",
       "    .dataframe tbody tr th:only-of-type {\n",
       "        vertical-align: middle;\n",
       "    }\n",
       "\n",
       "    .dataframe tbody tr th {\n",
       "        vertical-align: top;\n",
       "    }\n",
       "\n",
       "    .dataframe thead th {\n",
       "        text-align: right;\n",
       "    }\n",
       "</style>\n",
       "<table border=\"1\" class=\"dataframe\">\n",
       "  <thead>\n",
       "    <tr style=\"text-align: right;\">\n",
       "      <th></th>\n",
       "      <th>publisher</th>\n",
       "      <th>book_cnt</th>\n",
       "    </tr>\n",
       "  </thead>\n",
       "  <tbody>\n",
       "    <tr>\n",
       "      <th>0</th>\n",
       "      <td>Penguin Books</td>\n",
       "      <td>42</td>\n",
       "    </tr>\n",
       "  </tbody>\n",
       "</table>\n",
       "</div>"
      ],
      "text/plain": [
       "       publisher  book_cnt\n",
       "0  Penguin Books        42"
      ]
     },
     "execution_count": 10,
     "metadata": {},
     "output_type": "execute_result"
    }
   ],
   "source": [
    "# чтобы выполнить SQL-запрос, используем Pandas\n",
    "query = '''SELECT \n",
    "                publisher , \n",
    "                count(book_id) as book_cnt\n",
    "            FROM publishers p\n",
    "            left join books b on p.publisher_id=b.publisher_id \n",
    "            WHERE b.num_pages>50 \n",
    "            GROUP BY publisher\n",
    "            ORDER BY book_cnt desc \n",
    "            limit 1'''\n",
    "\n",
    "con=engine.connect()\n",
    "pd.io.sql.read_sql(sql=text(query), con = con)"
   ]
  },
  {
   "cell_type": "markdown",
   "metadata": {},
   "source": [
    "Наибольшее число книг толще 50 страниц (исключаем брошюры) выпустило издательство Penguin Books. Всего оно опубликовало 42 книги."
   ]
  },
  {
   "cell_type": "markdown",
   "metadata": {},
   "source": [
    "### Задание 4\n",
    "\n",
    "Определите автора с самой высокой средней оценкой книг — учитывайте только книги с 50 и более оценками;\n"
   ]
  },
  {
   "cell_type": "code",
   "execution_count": 11,
   "metadata": {},
   "outputs": [
    {
     "data": {
      "text/html": [
       "<div>\n",
       "<style scoped>\n",
       "    .dataframe tbody tr th:only-of-type {\n",
       "        vertical-align: middle;\n",
       "    }\n",
       "\n",
       "    .dataframe tbody tr th {\n",
       "        vertical-align: top;\n",
       "    }\n",
       "\n",
       "    .dataframe thead th {\n",
       "        text-align: right;\n",
       "    }\n",
       "</style>\n",
       "<table border=\"1\" class=\"dataframe\">\n",
       "  <thead>\n",
       "    <tr style=\"text-align: right;\">\n",
       "      <th></th>\n",
       "      <th>author</th>\n",
       "      <th>rating_avg</th>\n",
       "    </tr>\n",
       "  </thead>\n",
       "  <tbody>\n",
       "    <tr>\n",
       "      <th>0</th>\n",
       "      <td>J.K. Rowling/Mary GrandPré</td>\n",
       "      <td>4.29</td>\n",
       "    </tr>\n",
       "  </tbody>\n",
       "</table>\n",
       "</div>"
      ],
      "text/plain": [
       "                       author  rating_avg\n",
       "0  J.K. Rowling/Mary GrandPré        4.29"
      ]
     },
     "execution_count": 11,
     "metadata": {},
     "output_type": "execute_result"
    }
   ],
   "source": [
    "# чтобы выполнить SQL-запрос, используем Pandas\n",
    "query = '''WITH rate_cnt as \n",
    "            (SELECT \n",
    "                book_id,  \n",
    "                count(rating_id) as rating_cnt \n",
    "            FROM ratings \n",
    "            GROUP BY book_id\n",
    "            HAVING count(rating_id)>=50)\n",
    "\n",
    "            SELECT \n",
    "                a.author, \n",
    "                round(avg(ra.rating),2) as rating_avg\n",
    "            FROM authors a\n",
    "\n",
    "            left join books as b on  b.author_id=a.author_id\n",
    "            left join ratings as ra on b.book_id=ra.book_id\n",
    "            join rate_cnt as rt on b.book_id=rt.book_id\n",
    "            GROUP BY  a.author\n",
    "            ORDER BY rating_avg desc\n",
    "            LIMIT 1 '''\n",
    "\n",
    "con=engine.connect()\n",
    "pd.io.sql.read_sql(sql=text(query), con = con)"
   ]
  },
  {
   "cell_type": "markdown",
   "metadata": {},
   "source": [
    "J.K. Rowling/Mary GrandPré - автор с самой высокой средней оценкой книг 4,29. Учитываются книги с количеством оценок 50 и выше."
   ]
  },
  {
   "cell_type": "markdown",
   "metadata": {},
   "source": [
    "### Задание 5\n",
    "\n",
    "Посчитайте среднее количество обзоров от пользователей, которые поставили больше 48 оценок.\n"
   ]
  },
  {
   "cell_type": "code",
   "execution_count": 12,
   "metadata": {},
   "outputs": [
    {
     "data": {
      "text/html": [
       "<div>\n",
       "<style scoped>\n",
       "    .dataframe tbody tr th:only-of-type {\n",
       "        vertical-align: middle;\n",
       "    }\n",
       "\n",
       "    .dataframe tbody tr th {\n",
       "        vertical-align: top;\n",
       "    }\n",
       "\n",
       "    .dataframe thead th {\n",
       "        text-align: right;\n",
       "    }\n",
       "</style>\n",
       "<table border=\"1\" class=\"dataframe\">\n",
       "  <thead>\n",
       "    <tr style=\"text-align: right;\">\n",
       "      <th></th>\n",
       "      <th>avg</th>\n",
       "    </tr>\n",
       "  </thead>\n",
       "  <tbody>\n",
       "    <tr>\n",
       "      <th>0</th>\n",
       "      <td>24.0</td>\n",
       "    </tr>\n",
       "  </tbody>\n",
       "</table>\n",
       "</div>"
      ],
      "text/plain": [
       "    avg\n",
       "0  24.0"
      ]
     },
     "execution_count": 12,
     "metadata": {},
     "output_type": "execute_result"
    }
   ],
   "source": [
    "# чтобы выполнить SQL-запрос, используем Pandas\n",
    "query = '''WITH rate_cnt as \n",
    "            (SELECT \n",
    "                username,  \n",
    "                count(rating_id) as rating_cnt \n",
    "            FROM ratings \n",
    "            group by username\n",
    "            having count(rating_id) >48),\n",
    "            \n",
    "            reviews_cnt as \n",
    "            (SELECT \n",
    "                username,  \n",
    "                count(review_id) as review_cnt \n",
    "            FROM reviews\n",
    "            group by username)\n",
    "\n",
    "            SELECT\n",
    "            avg(review_cnt)\n",
    "            FROM reviews_cnt rw\n",
    "            join rate_cnt as ra on ra.username=rw.username\n",
    "           \n",
    "            '''\n",
    "con=engine.connect()\n",
    "pd.io.sql.read_sql(sql=text(query), con = con)"
   ]
  },
  {
   "cell_type": "markdown",
   "metadata": {},
   "source": [
    "Cреднее количество обзоров от пользователей, которые поставили больше 48 оценок, равно 24. "
   ]
  },
  {
   "cell_type": "markdown",
   "metadata": {},
   "source": [
    "### Выводы"
   ]
  },
  {
   "cell_type": "markdown",
   "metadata": {},
   "source": [
    "1. Всего с 1 января 2000 вышла 821 книга.\n",
    "2. Наибольшее количество обзоров получили книги Twilight (Twilight #1) Stephenie Meyer, The Road от Cormac McCarthy и  The Alchemist от Paulo Coelho/Alan R. Clarke/Özdemir İnce.\n",
    "3. Наибольшее число книг толще 50 страниц (исключаем брошюры) выпустило издательство Penguin Books. Всего оно опубликовало 42 книги.\n",
    "4. J.K. Rowling/Mary GrandPré - автор с самой высокой средней оценкой книг 4,29. Учитываются книги с количеством оценок 50 и выше.\n",
    "5. Cреднее количество обзоров от пользователей, которые поставили больше 48 оценок, равно 24. \n",
    "\n",
    "Рекомендации\n",
    "Аудитория явно предпочтитает романы, в частности книги  Стефани Мейер, Кормак Маккартни и Паоло Коэлью. Самые высокие оценки у книг Джоан Роулинг. Стоит ориентировать ценностное предложение с учетом интересов этих пользователей.  "
   ]
  },
  {
   "cell_type": "code",
   "execution_count": null,
   "metadata": {},
   "outputs": [],
   "source": []
  }
 ],
 "metadata": {
  "ExecuteTimeLog": [
   {
    "duration": 12855,
    "start_time": "2023-09-14T21:35:20.056Z"
   },
   {
    "duration": 77,
    "start_time": "2023-09-14T21:36:33.218Z"
   },
   {
    "duration": 10,
    "start_time": "2023-09-14T21:36:45.301Z"
   },
   {
    "duration": 10,
    "start_time": "2023-09-14T21:38:08.074Z"
   },
   {
    "duration": 11,
    "start_time": "2023-09-14T21:38:58.328Z"
   },
   {
    "duration": 18,
    "start_time": "2023-09-14T21:39:14.933Z"
   },
   {
    "duration": 12,
    "start_time": "2023-09-14T21:39:30.318Z"
   },
   {
    "duration": 12,
    "start_time": "2023-09-14T21:39:35.271Z"
   },
   {
    "duration": 37,
    "start_time": "2023-09-14T21:39:46.638Z"
   },
   {
    "duration": 15,
    "start_time": "2023-09-14T21:40:25.876Z"
   },
   {
    "duration": 12,
    "start_time": "2023-09-14T21:40:45.193Z"
   },
   {
    "duration": 11,
    "start_time": "2023-09-14T21:40:45.700Z"
   },
   {
    "duration": 13,
    "start_time": "2023-09-14T21:41:50.585Z"
   },
   {
    "duration": 14,
    "start_time": "2023-09-14T21:42:08.286Z"
   },
   {
    "duration": 13,
    "start_time": "2023-09-14T21:43:24.374Z"
   },
   {
    "duration": 11,
    "start_time": "2023-09-14T21:43:25.007Z"
   },
   {
    "duration": 11,
    "start_time": "2023-09-14T21:43:25.571Z"
   },
   {
    "duration": 11,
    "start_time": "2023-09-14T21:43:26.075Z"
   },
   {
    "duration": 11,
    "start_time": "2023-09-14T21:43:27.073Z"
   },
   {
    "duration": 6,
    "start_time": "2023-09-14T21:45:02.971Z"
   },
   {
    "duration": 46,
    "start_time": "2023-09-14T21:45:03.176Z"
   },
   {
    "duration": 46,
    "start_time": "2023-09-14T21:45:03.472Z"
   },
   {
    "duration": 40,
    "start_time": "2023-09-14T21:45:03.646Z"
   },
   {
    "duration": 11,
    "start_time": "2023-09-14T21:45:03.876Z"
   },
   {
    "duration": 17,
    "start_time": "2023-09-14T21:45:04.274Z"
   },
   {
    "duration": 20,
    "start_time": "2023-09-14T21:47:31.627Z"
   },
   {
    "duration": 19,
    "start_time": "2023-09-14T21:48:07.762Z"
   },
   {
    "duration": 21,
    "start_time": "2023-09-14T21:48:17.486Z"
   },
   {
    "duration": 10,
    "start_time": "2023-09-14T21:48:50.699Z"
   },
   {
    "duration": 93,
    "start_time": "2023-09-14T21:53:46.033Z"
   },
   {
    "duration": 21,
    "start_time": "2023-09-14T21:54:01.771Z"
   },
   {
    "duration": 55,
    "start_time": "2023-09-14T21:54:27.978Z"
   },
   {
    "duration": 27,
    "start_time": "2023-09-14T21:54:45.735Z"
   },
   {
    "duration": 54,
    "start_time": "2023-09-14T21:55:00.677Z"
   },
   {
    "duration": 53,
    "start_time": "2023-09-14T21:55:40.169Z"
   },
   {
    "duration": 78,
    "start_time": "2023-09-14T21:55:54.808Z"
   },
   {
    "duration": 69,
    "start_time": "2023-09-14T21:56:05.741Z"
   },
   {
    "duration": 40,
    "start_time": "2023-09-14T21:56:36.262Z"
   },
   {
    "duration": 33,
    "start_time": "2023-09-14T21:56:55.770Z"
   },
   {
    "duration": 87,
    "start_time": "2023-09-14T21:57:02.926Z"
   },
   {
    "duration": 34,
    "start_time": "2023-09-14T21:57:25.083Z"
   },
   {
    "duration": 29,
    "start_time": "2023-09-14T21:57:38.991Z"
   },
   {
    "duration": 27,
    "start_time": "2023-09-14T21:57:48.181Z"
   },
   {
    "duration": 28,
    "start_time": "2023-09-14T22:00:18.195Z"
   },
   {
    "duration": 22,
    "start_time": "2023-09-14T22:00:52.798Z"
   },
   {
    "duration": 39,
    "start_time": "2023-09-14T22:01:14.517Z"
   },
   {
    "duration": 39,
    "start_time": "2023-09-14T22:01:31.078Z"
   },
   {
    "duration": 31,
    "start_time": "2023-09-14T22:06:41.578Z"
   },
   {
    "duration": 45,
    "start_time": "2023-09-14T22:06:56.559Z"
   },
   {
    "duration": 30,
    "start_time": "2023-09-14T22:07:02.901Z"
   },
   {
    "duration": 29,
    "start_time": "2023-09-14T22:07:11.101Z"
   },
   {
    "duration": 31,
    "start_time": "2023-09-14T22:07:16.605Z"
   },
   {
    "duration": 30,
    "start_time": "2023-09-14T22:07:29.381Z"
   },
   {
    "duration": 21,
    "start_time": "2023-09-14T22:10:54.919Z"
   },
   {
    "duration": 20,
    "start_time": "2023-09-14T22:11:34.774Z"
   },
   {
    "duration": 15,
    "start_time": "2023-09-14T22:11:42.596Z"
   },
   {
    "duration": 30,
    "start_time": "2023-09-14T22:11:51.073Z"
   },
   {
    "duration": 14,
    "start_time": "2023-09-14T22:12:02.578Z"
   },
   {
    "duration": 14,
    "start_time": "2023-09-14T22:12:46.975Z"
   },
   {
    "duration": 15,
    "start_time": "2023-09-14T22:14:48.008Z"
   },
   {
    "duration": 21,
    "start_time": "2023-09-14T22:17:56.685Z"
   },
   {
    "duration": 21,
    "start_time": "2023-09-14T22:18:15.086Z"
   },
   {
    "duration": 13,
    "start_time": "2023-09-14T22:18:50.213Z"
   },
   {
    "duration": 20,
    "start_time": "2023-09-14T22:25:18.895Z"
   },
   {
    "duration": 40,
    "start_time": "2023-09-14T22:25:27.018Z"
   },
   {
    "duration": 60,
    "start_time": "2023-09-14T22:25:49.270Z"
   },
   {
    "duration": 83,
    "start_time": "2023-09-14T22:27:02.311Z"
   },
   {
    "duration": 26,
    "start_time": "2023-09-14T22:27:11.470Z"
   },
   {
    "duration": 16,
    "start_time": "2023-09-14T22:27:39.119Z"
   },
   {
    "duration": 36,
    "start_time": "2023-09-14T22:28:16.756Z"
   },
   {
    "duration": 22,
    "start_time": "2023-09-14T22:28:29.771Z"
   },
   {
    "duration": 41,
    "start_time": "2023-09-14T22:28:34.653Z"
   },
   {
    "duration": 45,
    "start_time": "2023-09-14T22:29:45.636Z"
   },
   {
    "duration": 14,
    "start_time": "2023-09-14T22:30:16.415Z"
   },
   {
    "duration": 39,
    "start_time": "2023-09-14T22:31:38.039Z"
   },
   {
    "duration": 33,
    "start_time": "2023-09-14T22:40:19.535Z"
   },
   {
    "duration": 18,
    "start_time": "2023-09-14T22:40:38.303Z"
   },
   {
    "duration": 36,
    "start_time": "2023-09-14T22:41:04.040Z"
   },
   {
    "duration": 92,
    "start_time": "2023-09-14T22:41:17.788Z"
   },
   {
    "duration": 15,
    "start_time": "2023-09-14T22:42:28.318Z"
   },
   {
    "duration": 21,
    "start_time": "2023-09-14T22:42:54.873Z"
   },
   {
    "duration": 19,
    "start_time": "2023-09-14T22:43:22.479Z"
   },
   {
    "duration": 13,
    "start_time": "2023-09-14T22:43:37.595Z"
   },
   {
    "duration": 78,
    "start_time": "2023-09-14T22:44:27.715Z"
   },
   {
    "duration": 25,
    "start_time": "2023-09-14T22:45:10.533Z"
   },
   {
    "duration": 16,
    "start_time": "2023-09-14T22:45:27.670Z"
   },
   {
    "duration": 18,
    "start_time": "2023-09-14T22:46:01.835Z"
   },
   {
    "duration": 16,
    "start_time": "2023-09-14T22:46:09.234Z"
   },
   {
    "duration": 26,
    "start_time": "2023-09-14T22:51:12.669Z"
   },
   {
    "duration": 23,
    "start_time": "2023-09-14T22:51:22.074Z"
   },
   {
    "duration": 14,
    "start_time": "2023-09-14T22:51:44.298Z"
   },
   {
    "duration": 11,
    "start_time": "2023-09-14T22:53:07.726Z"
   },
   {
    "duration": 18,
    "start_time": "2023-09-14T22:53:17.033Z"
   },
   {
    "duration": 12503,
    "start_time": "2023-09-14T22:53:33.516Z"
   },
   {
    "duration": 82,
    "start_time": "2023-09-14T22:53:46.021Z"
   },
   {
    "duration": 27,
    "start_time": "2023-09-14T22:53:46.106Z"
   },
   {
    "duration": 12,
    "start_time": "2023-09-14T22:53:46.135Z"
   },
   {
    "duration": 28,
    "start_time": "2023-09-14T22:53:46.154Z"
   },
   {
    "duration": 10,
    "start_time": "2023-09-14T22:53:46.183Z"
   },
   {
    "duration": 9,
    "start_time": "2023-09-14T22:53:46.194Z"
   },
   {
    "duration": 8,
    "start_time": "2023-09-14T22:53:46.204Z"
   },
   {
    "duration": 30,
    "start_time": "2023-09-14T22:53:46.213Z"
   },
   {
    "duration": 28,
    "start_time": "2023-09-14T22:53:46.250Z"
   },
   {
    "duration": 15,
    "start_time": "2023-09-14T22:53:46.279Z"
   },
   {
    "duration": 12,
    "start_time": "2023-09-14T22:53:46.295Z"
   },
   {
    "duration": 10140,
    "start_time": "2023-09-15T03:51:05.269Z"
   },
   {
    "duration": 242,
    "start_time": "2023-09-15T03:51:15.411Z"
   },
   {
    "duration": 143,
    "start_time": "2023-09-15T03:51:15.655Z"
   },
   {
    "duration": 58,
    "start_time": "2023-09-15T03:51:15.800Z"
   },
   {
    "duration": 56,
    "start_time": "2023-09-15T03:51:15.860Z"
   },
   {
    "duration": 56,
    "start_time": "2023-09-15T03:51:15.919Z"
   },
   {
    "duration": 57,
    "start_time": "2023-09-15T03:51:15.978Z"
   },
   {
    "duration": 56,
    "start_time": "2023-09-15T03:51:16.038Z"
   },
   {
    "duration": 105,
    "start_time": "2023-09-15T03:51:16.096Z"
   },
   {
    "duration": 59,
    "start_time": "2023-09-15T03:51:16.203Z"
   },
   {
    "duration": 62,
    "start_time": "2023-09-15T03:51:16.264Z"
   },
   {
    "duration": 56,
    "start_time": "2023-09-15T03:51:16.328Z"
   },
   {
    "duration": 60,
    "start_time": "2023-09-15T03:54:19.077Z"
   },
   {
    "duration": 58,
    "start_time": "2023-09-15T03:54:21.303Z"
   },
   {
    "duration": 10423,
    "start_time": "2023-09-15T06:31:39.673Z"
   },
   {
    "duration": 66,
    "start_time": "2023-09-15T06:31:50.098Z"
   },
   {
    "duration": 30,
    "start_time": "2023-09-15T06:31:50.165Z"
   },
   {
    "duration": 10,
    "start_time": "2023-09-15T06:31:50.196Z"
   },
   {
    "duration": 11,
    "start_time": "2023-09-15T06:31:50.208Z"
   },
   {
    "duration": 10,
    "start_time": "2023-09-15T06:31:50.220Z"
   },
   {
    "duration": 9,
    "start_time": "2023-09-15T06:31:50.231Z"
   },
   {
    "duration": 17,
    "start_time": "2023-09-15T06:31:50.241Z"
   },
   {
    "duration": 31,
    "start_time": "2023-09-15T06:31:50.259Z"
   },
   {
    "duration": 11,
    "start_time": "2023-09-15T06:31:50.291Z"
   },
   {
    "duration": 13,
    "start_time": "2023-09-15T06:31:50.303Z"
   },
   {
    "duration": 12,
    "start_time": "2023-09-15T06:31:50.317Z"
   },
   {
    "duration": 16,
    "start_time": "2023-09-15T06:32:42.097Z"
   },
   {
    "duration": 79,
    "start_time": "2023-09-15T06:33:12.313Z"
   },
   {
    "duration": 20,
    "start_time": "2023-09-15T06:33:26.420Z"
   },
   {
    "duration": 50,
    "start_time": "2023-09-15T06:33:31.782Z"
   },
   {
    "duration": 17,
    "start_time": "2023-09-15T06:33:44.055Z"
   },
   {
    "duration": 21,
    "start_time": "2023-09-15T06:35:57.828Z"
   },
   {
    "duration": 18,
    "start_time": "2023-09-15T06:36:27.560Z"
   },
   {
    "duration": 39,
    "start_time": "2023-09-15T06:36:34.402Z"
   },
   {
    "duration": 67,
    "start_time": "2023-09-15T06:36:51.456Z"
   },
   {
    "duration": 20,
    "start_time": "2023-09-15T06:37:07.972Z"
   },
   {
    "duration": 38,
    "start_time": "2023-09-15T06:37:23.555Z"
   },
   {
    "duration": 20,
    "start_time": "2023-09-15T06:39:34.355Z"
   },
   {
    "duration": 30,
    "start_time": "2023-09-15T06:39:41.780Z"
   },
   {
    "duration": 60,
    "start_time": "2023-09-15T06:39:53.831Z"
   },
   {
    "duration": 67,
    "start_time": "2023-09-15T06:40:03.998Z"
   },
   {
    "duration": 30,
    "start_time": "2023-09-15T06:41:06.022Z"
   },
   {
    "duration": 16,
    "start_time": "2023-09-15T06:41:36.184Z"
   },
   {
    "duration": 21,
    "start_time": "2023-09-15T06:41:55.610Z"
   },
   {
    "duration": 19,
    "start_time": "2023-09-15T06:42:06.637Z"
   },
   {
    "duration": 19,
    "start_time": "2023-09-15T06:42:13.767Z"
   },
   {
    "duration": 25,
    "start_time": "2023-09-15T06:42:28.156Z"
   },
   {
    "duration": 19,
    "start_time": "2023-09-15T06:43:42.069Z"
   },
   {
    "duration": 22,
    "start_time": "2023-09-15T06:44:27.624Z"
   },
   {
    "duration": 22,
    "start_time": "2023-09-15T06:44:35.545Z"
   },
   {
    "duration": 18,
    "start_time": "2023-09-15T06:45:19.031Z"
   },
   {
    "duration": 29,
    "start_time": "2023-09-15T06:45:34.562Z"
   },
   {
    "duration": 19,
    "start_time": "2023-09-15T06:50:10.638Z"
   },
   {
    "duration": 21,
    "start_time": "2023-09-15T06:50:28.228Z"
   },
   {
    "duration": 19,
    "start_time": "2023-09-15T06:50:41.450Z"
   },
   {
    "duration": 57,
    "start_time": "2023-09-15T06:51:00.667Z"
   },
   {
    "duration": 52,
    "start_time": "2023-09-15T06:51:36.696Z"
   },
   {
    "duration": 21,
    "start_time": "2023-09-15T06:52:25.890Z"
   },
   {
    "duration": 32,
    "start_time": "2023-09-15T06:52:43.475Z"
   },
   {
    "duration": 20,
    "start_time": "2023-09-15T06:53:56.933Z"
   },
   {
    "duration": 19,
    "start_time": "2023-09-15T06:54:08.250Z"
   },
   {
    "duration": 22,
    "start_time": "2023-09-15T06:56:00.064Z"
   },
   {
    "duration": 65,
    "start_time": "2023-09-15T06:56:09.018Z"
   },
   {
    "duration": 48,
    "start_time": "2023-09-15T06:56:27.515Z"
   },
   {
    "duration": 22,
    "start_time": "2023-09-15T06:58:02.744Z"
   },
   {
    "duration": 26,
    "start_time": "2023-09-15T06:58:35.569Z"
   },
   {
    "duration": 12700,
    "start_time": "2023-09-15T07:03:06.943Z"
   },
   {
    "duration": 55,
    "start_time": "2023-09-15T07:03:19.646Z"
   },
   {
    "duration": 35,
    "start_time": "2023-09-15T07:03:19.703Z"
   },
   {
    "duration": 23,
    "start_time": "2023-09-15T07:03:19.740Z"
   },
   {
    "duration": 12,
    "start_time": "2023-09-15T07:03:19.765Z"
   },
   {
    "duration": 12,
    "start_time": "2023-09-15T07:03:19.779Z"
   },
   {
    "duration": 16,
    "start_time": "2023-09-15T07:03:19.792Z"
   },
   {
    "duration": 21,
    "start_time": "2023-09-15T07:03:19.809Z"
   },
   {
    "duration": 48,
    "start_time": "2023-09-15T07:03:19.831Z"
   },
   {
    "duration": 13,
    "start_time": "2023-09-15T07:03:19.881Z"
   },
   {
    "duration": 41,
    "start_time": "2023-09-15T07:03:19.895Z"
   },
   {
    "duration": 31,
    "start_time": "2023-09-15T07:03:19.938Z"
   },
   {
    "duration": 40,
    "start_time": "2023-09-15T07:03:19.971Z"
   },
   {
    "duration": 84,
    "start_time": "2023-09-15T07:07:04.879Z"
   },
   {
    "duration": 19,
    "start_time": "2023-09-15T07:07:59.883Z"
   },
   {
    "duration": 49,
    "start_time": "2023-09-15T07:08:34.955Z"
   },
   {
    "duration": 43,
    "start_time": "2023-09-15T07:08:59.018Z"
   },
   {
    "duration": 41,
    "start_time": "2023-09-15T07:09:08.255Z"
   },
   {
    "duration": 23,
    "start_time": "2023-09-15T07:11:14.782Z"
   },
   {
    "duration": 11,
    "start_time": "2023-09-15T07:11:30.285Z"
   },
   {
    "duration": 10,
    "start_time": "2023-09-15T07:12:23.918Z"
   },
   {
    "duration": 11,
    "start_time": "2023-09-15T07:12:43.951Z"
   },
   {
    "duration": 11,
    "start_time": "2023-09-15T07:12:58.666Z"
   },
   {
    "duration": 12,
    "start_time": "2023-09-15T07:13:18.122Z"
   },
   {
    "duration": 10,
    "start_time": "2023-09-15T07:13:42.586Z"
   },
   {
    "duration": 10,
    "start_time": "2023-09-15T07:14:28.405Z"
   },
   {
    "duration": 26,
    "start_time": "2023-09-15T07:14:45.957Z"
   },
   {
    "duration": 10900,
    "start_time": "2023-09-15T08:36:13.923Z"
   },
   {
    "duration": 62,
    "start_time": "2023-09-15T08:36:24.825Z"
   },
   {
    "duration": 30,
    "start_time": "2023-09-15T08:36:24.889Z"
   },
   {
    "duration": 42,
    "start_time": "2023-09-15T08:36:24.922Z"
   },
   {
    "duration": 24,
    "start_time": "2023-09-15T08:36:24.966Z"
   },
   {
    "duration": 12,
    "start_time": "2023-09-15T08:36:24.991Z"
   },
   {
    "duration": 12,
    "start_time": "2023-09-15T08:36:25.004Z"
   },
   {
    "duration": 42,
    "start_time": "2023-09-15T08:36:25.017Z"
   },
   {
    "duration": 26,
    "start_time": "2023-09-15T08:36:25.060Z"
   },
   {
    "duration": 12,
    "start_time": "2023-09-15T08:36:25.088Z"
   },
   {
    "duration": 30,
    "start_time": "2023-09-15T08:36:25.101Z"
   },
   {
    "duration": 30,
    "start_time": "2023-09-15T08:36:25.133Z"
   },
   {
    "duration": 13002,
    "start_time": "2023-09-28T14:38:51.627Z"
   },
   {
    "duration": 2,
    "start_time": "2023-09-28T14:40:01.488Z"
   },
   {
    "duration": 3,
    "start_time": "2023-09-28T14:40:02.335Z"
   },
   {
    "duration": 3,
    "start_time": "2023-09-28T14:40:03.998Z"
   },
   {
    "duration": 280,
    "start_time": "2023-09-28T14:40:04.935Z"
   },
   {
    "duration": 630,
    "start_time": "2023-09-28T14:40:51.935Z"
   },
   {
    "duration": 5,
    "start_time": "2023-09-28T14:40:52.568Z"
   },
   {
    "duration": 14117,
    "start_time": "2023-09-28T14:40:53.433Z"
   },
   {
    "duration": 56,
    "start_time": "2023-09-28T14:41:07.552Z"
   },
   {
    "duration": 3,
    "start_time": "2023-09-28T14:41:29.268Z"
   },
   {
    "duration": 35,
    "start_time": "2023-09-28T14:41:49.043Z"
   },
   {
    "duration": 37,
    "start_time": "2023-09-28T14:41:50.004Z"
   },
   {
    "duration": 34,
    "start_time": "2023-09-28T14:41:55.143Z"
   },
   {
    "duration": 34,
    "start_time": "2023-09-28T14:41:56.067Z"
   },
   {
    "duration": 46,
    "start_time": "2023-09-28T14:41:58.809Z"
   },
   {
    "duration": 158,
    "start_time": "2023-09-28T14:42:05.856Z"
   },
   {
    "duration": 48,
    "start_time": "2023-09-28T14:42:20.792Z"
   },
   {
    "duration": 124,
    "start_time": "2023-09-28T14:42:26.560Z"
   }
  ],
  "kernelspec": {
   "display_name": "Python 3 (ipykernel)",
   "language": "python",
   "name": "python3"
  },
  "language_info": {
   "codemirror_mode": {
    "name": "ipython",
    "version": 3
   },
   "file_extension": ".py",
   "mimetype": "text/x-python",
   "name": "python",
   "nbconvert_exporter": "python",
   "pygments_lexer": "ipython3",
   "version": "3.9.5"
  },
  "toc": {
   "base_numbering": 1,
   "nav_menu": {
    "height": "172.988px",
    "width": "270px"
   },
   "number_sections": true,
   "sideBar": true,
   "skip_h1_title": true,
   "title_cell": "Table of Contents",
   "title_sidebar": "Contents",
   "toc_cell": false,
   "toc_position": {},
   "toc_section_display": true,
   "toc_window_display": false
  }
 },
 "nbformat": 4,
 "nbformat_minor": 2
}
